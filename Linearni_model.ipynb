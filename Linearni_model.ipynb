{
  "nbformat": 4,
  "nbformat_minor": 0,
  "metadata": {
    "colab": {
      "provenance": [],
      "authorship_tag": "ABX9TyOK0t3yfX76OO6euvZz6kGB",
      "include_colab_link": true
    },
    "kernelspec": {
      "name": "python3",
      "display_name": "Python 3"
    },
    "language_info": {
      "name": "python"
    }
  },
  "cells": [
    {
      "cell_type": "markdown",
      "metadata": {
        "id": "view-in-github",
        "colab_type": "text"
      },
      "source": [
        "<a href=\"https://colab.research.google.com/github/Alisa523/Linearni-model/blob/main/Linearni_model.ipynb\" target=\"_parent\"><img src=\"https://colab.research.google.com/assets/colab-badge.svg\" alt=\"Open In Colab\"/></a>"
      ]
    },
    {
      "cell_type": "code",
      "execution_count": null,
      "metadata": {
        "id": "6piUxHp82eTj"
      },
      "outputs": [],
      "source": [
        "import pandas as pd\n",
        "import seaborn as sns\n",
        "import matplotlib.pyplot as plt\n",
        "\n",
        "data = pd.read_csv(\"Real estate.csv\")\n",
        "data.head()\n",
        "\n",
        "n=len(data.values)\n",
        "\n",
        "Xu=0\n",
        "Yu=0\n",
        "\n",
        "for i in range(n):\n",
        " Xu=Xu+data.values[i][3]\n",
        " Yu=Yu+data.values[i][6]\n",
        "\n",
        "Xavg=Xu/n\n",
        "Yavg=Yu/n\n",
        "\n",
        "S1=0\n",
        "S2=0\n",
        "\n",
        "for i in range(n):\n",
        "  S1=S1+(data.values[i][3]-Xavg)*(data.values[i][6]-Yavg)\n",
        "  S2=S2+(data.values[i][3]-Xavg)**2\n",
        "\n",
        "B=S1/S2\n",
        "A=Yavg-B*Xavg\n",
        "print(B,A)\n",
        "\n",
        "\n"
      ]
    },
    {
      "cell_type": "code",
      "source": [
        "sns.scatterplot(data, x,y,hueplt.show)\n",
        "plt.show()\n",
        "\n",
        "x = np.random.uniform(0, 10, size=1000)\n",
        "y = B*x+A\n",
        "sns.lineplot(x=x,y=y)\n",
        "\n",
        "\n",
        ""
      ],
      "metadata": {
        "id": "5C563trF9jOs"
      },
      "execution_count": null,
      "outputs": []
    }
  ]
}